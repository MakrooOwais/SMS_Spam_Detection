{
  "cells": [
    {
      "cell_type": "code",
      "execution_count": 3,
      "metadata": {},
      "outputs": [
        {
          "data": {
            "application/javascript": "\n            setTimeout(function() {\n                var nbb_cell_id = 3;\n                var nbb_unformatted_code = \"%load_ext nb_black\\n%load_ext lab_black\";\n                var nbb_formatted_code = \"%load_ext nb_black\\n%load_ext lab_black\";\n                var nbb_cells = Jupyter.notebook.get_cells();\n                for (var i = 0; i < nbb_cells.length; ++i) {\n                    if (nbb_cells[i].input_prompt_number == nbb_cell_id) {\n                        if (nbb_cells[i].get_text() == nbb_unformatted_code) {\n                             nbb_cells[i].set_text(nbb_formatted_code);\n                        }\n                        break;\n                    }\n                }\n            }, 500);\n            ",
            "text/plain": [
              "<IPython.core.display.Javascript object>"
            ]
          },
          "metadata": {},
          "output_type": "display_data"
        }
      ],
      "source": [
        "%load_ext nb_black\n",
        "%load_ext lab_black"
      ]
    },
    {
      "cell_type": "code",
      "execution_count": 1,
      "metadata": {
        "id": "8RZOuS9LWQvv"
      },
      "outputs": [],
      "source": [
        "# import libraries\n",
        "import tensorflow as tf\n",
        "import pandas as pd\n",
        "from tensorflow import keras\n",
        "\n",
        "import tensorflow_datasets as tfds\n",
        "import numpy as np\n",
        "import matplotlib.pyplot as plt"
      ]
    },
    {
      "cell_type": "code",
      "execution_count": 12,
      "metadata": {
        "id": "lMHwYXHXCar3"
      },
      "outputs": [
        {
          "data": {
            "application/javascript": "\n            setTimeout(function() {\n                var nbb_cell_id = 12;\n                var nbb_unformatted_code = \"train_file_path = \\\"train-data.tsv\\\"\\ntest_file_path = \\\"valid-data.tsv\\\"\";\n                var nbb_formatted_code = \"train_file_path = \\\"train-data.tsv\\\"\\ntest_file_path = \\\"valid-data.tsv\\\"\";\n                var nbb_cells = Jupyter.notebook.get_cells();\n                for (var i = 0; i < nbb_cells.length; ++i) {\n                    if (nbb_cells[i].input_prompt_number == nbb_cell_id) {\n                        if (nbb_cells[i].get_text() == nbb_unformatted_code) {\n                             nbb_cells[i].set_text(nbb_formatted_code);\n                        }\n                        break;\n                    }\n                }\n            }, 500);\n            ",
            "text/plain": [
              "<IPython.core.display.Javascript object>"
            ]
          },
          "metadata": {},
          "output_type": "display_data"
        }
      ],
      "source": [
        "train_file_path = \"train-data.tsv\"\n",
        "test_file_path = \"valid-data.tsv\""
      ]
    },
    {
      "cell_type": "code",
      "execution_count": 19,
      "metadata": {
        "id": "g_h508FEClxO"
      },
      "outputs": [
        {
          "data": {
            "application/javascript": "\n            setTimeout(function() {\n                var nbb_cell_id = 19;\n                var nbb_unformatted_code = \"train = pd.read_csv(train_file_path, sep=\\\"\\\\t\\\")\\ntest = pd.read_csv(test_file_path, sep=\\\"\\\\t\\\")\\n\\ntrain_data, train_labels = train.iloc[:, 1], train.iloc[:, 0]\\ntest_data, test_labels = test.iloc[:, 1], test.iloc[:, 0]\";\n                var nbb_formatted_code = \"train = pd.read_csv(train_file_path, sep=\\\"\\\\t\\\")\\ntest = pd.read_csv(test_file_path, sep=\\\"\\\\t\\\")\\n\\ntrain_data, train_labels = train.iloc[:, 1], train.iloc[:, 0]\\ntest_data, test_labels = test.iloc[:, 1], test.iloc[:, 0]\";\n                var nbb_cells = Jupyter.notebook.get_cells();\n                for (var i = 0; i < nbb_cells.length; ++i) {\n                    if (nbb_cells[i].input_prompt_number == nbb_cell_id) {\n                        if (nbb_cells[i].get_text() == nbb_unformatted_code) {\n                             nbb_cells[i].set_text(nbb_formatted_code);\n                        }\n                        break;\n                    }\n                }\n            }, 500);\n            ",
            "text/plain": [
              "<IPython.core.display.Javascript object>"
            ]
          },
          "metadata": {},
          "output_type": "display_data"
        }
      ],
      "source": [
        "train = pd.read_csv(train_file_path, sep=\"\\t\")\n",
        "test = pd.read_csv(test_file_path, sep=\"\\t\")\n",
        "\n",
        "train_data, train_labels = train.iloc[:, 1], train.iloc[:, 0]\n",
        "test_data, test_labels = test.iloc[:, 1], test.iloc[:, 0]"
      ]
    },
    {
      "cell_type": "code",
      "execution_count": 39,
      "metadata": {},
      "outputs": [
        {
          "data": {
            "application/javascript": "\n            setTimeout(function() {\n                var nbb_cell_id = 39;\n                var nbb_unformatted_code = \"key = {0: 'ham', 1: 'spam'}\";\n                var nbb_formatted_code = \"key = {0: \\\"ham\\\", 1: \\\"spam\\\"}\";\n                var nbb_cells = Jupyter.notebook.get_cells();\n                for (var i = 0; i < nbb_cells.length; ++i) {\n                    if (nbb_cells[i].input_prompt_number == nbb_cell_id) {\n                        if (nbb_cells[i].get_text() == nbb_unformatted_code) {\n                             nbb_cells[i].set_text(nbb_formatted_code);\n                        }\n                        break;\n                    }\n                }\n            }, 500);\n            ",
            "text/plain": [
              "<IPython.core.display.Javascript object>"
            ]
          },
          "metadata": {},
          "output_type": "display_data"
        }
      ],
      "source": [
        "key = {0: \"ham\", 1: \"spam\"}"
      ]
    },
    {
      "cell_type": "code",
      "execution_count": 37,
      "metadata": {},
      "outputs": [
        {
          "data": {
            "application/javascript": "\n            setTimeout(function() {\n                var nbb_cell_id = 37;\n                var nbb_unformatted_code = \"from sklearn.preprocessing import LabelEncoder\\n\\nle = LabelEncoder()\\ntrain_labels = le.fit_transform(\\n    train_labels\\n)\\n\\ntest_labels = le.fit_transform(\\n    test_labels\\n)\";\n                var nbb_formatted_code = \"from sklearn.preprocessing import LabelEncoder\\n\\nle = LabelEncoder()\\ntrain_labels = le.fit_transform(train_labels)\\n\\ntest_labels = le.fit_transform(test_labels)\";\n                var nbb_cells = Jupyter.notebook.get_cells();\n                for (var i = 0; i < nbb_cells.length; ++i) {\n                    if (nbb_cells[i].input_prompt_number == nbb_cell_id) {\n                        if (nbb_cells[i].get_text() == nbb_unformatted_code) {\n                             nbb_cells[i].set_text(nbb_formatted_code);\n                        }\n                        break;\n                    }\n                }\n            }, 500);\n            ",
            "text/plain": [
              "<IPython.core.display.Javascript object>"
            ]
          },
          "metadata": {},
          "output_type": "display_data"
        }
      ],
      "source": [
        "from sklearn.preprocessing import LabelEncoder\n",
        "\n",
        "le = LabelEncoder()\n",
        "train_labels = le.fit_transform(train_labels)\n",
        "\n",
        "test_labels = le.fit_transform(test_labels)"
      ]
    },
    {
      "cell_type": "code",
      "execution_count": 49,
      "metadata": {
        "id": "zOMKywn4zReN"
      },
      "outputs": [
        {
          "data": {
            "application/javascript": "\n            setTimeout(function() {\n                var nbb_cell_id = 49;\n                var nbb_unformatted_code = \"from keras.preprocessing import sequence\\nfrom keras.datasets.imdb import get_word_index\\n\\nword_index = get_word_index()\\nMAXLEN = 250\\n\\n\\ndef encode_text(text):\\n    tokens = tf.keras.preprocessing.text.text_to_word_sequence(text)\\n    tokens = [word_index[word] if word in word_index else 0 for word in tokens]\\n    return sequence.pad_sequences([tokens], MAXLEN)[0]\";\n                var nbb_formatted_code = \"from keras.preprocessing import sequence\\nfrom keras.datasets.imdb import get_word_index\\n\\nword_index = get_word_index()\\nMAXLEN = 250\\n\\n\\ndef encode_text(text):\\n    tokens = tf.keras.preprocessing.text.text_to_word_sequence(text)\\n    tokens = [word_index[word] if word in word_index else 0 for word in tokens]\\n    return sequence.pad_sequences([tokens], MAXLEN)[0]\";\n                var nbb_cells = Jupyter.notebook.get_cells();\n                for (var i = 0; i < nbb_cells.length; ++i) {\n                    if (nbb_cells[i].input_prompt_number == nbb_cell_id) {\n                        if (nbb_cells[i].get_text() == nbb_unformatted_code) {\n                             nbb_cells[i].set_text(nbb_formatted_code);\n                        }\n                        break;\n                    }\n                }\n            }, 500);\n            ",
            "text/plain": [
              "<IPython.core.display.Javascript object>"
            ]
          },
          "metadata": {},
          "output_type": "display_data"
        }
      ],
      "source": [
        "from keras.preprocessing import sequence\n",
        "from keras.datasets.imdb import get_word_index\n",
        "\n",
        "word_index = get_word_index()\n",
        "MAXLEN = 250\n",
        "\n",
        "\n",
        "def encode_text(text):\n",
        "    tokens = tf.keras.preprocessing.text.text_to_word_sequence(text)\n",
        "    tokens = [word_index[word] if word in word_index else 0 for word in tokens]\n",
        "    return sequence.pad_sequences([tokens], MAXLEN)[0]"
      ]
    },
    {
      "cell_type": "code",
      "execution_count": 27,
      "metadata": {},
      "outputs": [
        {
          "data": {
            "application/javascript": "\n            setTimeout(function() {\n                var nbb_cell_id = 27;\n                var nbb_unformatted_code = \"for x in range(len(train_data)):\\n    train_data.iloc[x] = encode_text(train_data.iloc[x])\\nfor x in range(len(test_data)):\\n    test_data.iloc[x] = encode_text(test_data.iloc[x])\\n\\ntrain_data = sequence.pad_sequences(train_data, MAXLEN)\\ntest_data = sequence.pad_sequences(test_data, MAXLEN)\";\n                var nbb_formatted_code = \"for x in range(len(train_data)):\\n    train_data.iloc[x] = encode_text(train_data.iloc[x])\\nfor x in range(len(test_data)):\\n    test_data.iloc[x] = encode_text(test_data.iloc[x])\\n\\ntrain_data = sequence.pad_sequences(train_data, MAXLEN)\\ntest_data = sequence.pad_sequences(test_data, MAXLEN)\";\n                var nbb_cells = Jupyter.notebook.get_cells();\n                for (var i = 0; i < nbb_cells.length; ++i) {\n                    if (nbb_cells[i].input_prompt_number == nbb_cell_id) {\n                        if (nbb_cells[i].get_text() == nbb_unformatted_code) {\n                             nbb_cells[i].set_text(nbb_formatted_code);\n                        }\n                        break;\n                    }\n                }\n            }, 500);\n            ",
            "text/plain": [
              "<IPython.core.display.Javascript object>"
            ]
          },
          "metadata": {},
          "output_type": "display_data"
        }
      ],
      "source": [
        "for x in range(len(train_data)):\n",
        "    train_data.iloc[x] = encode_text(train_data.iloc[x])\n",
        "for x in range(len(test_data)):\n",
        "    test_data.iloc[x] = encode_text(test_data.iloc[x])\n",
        "\n",
        "train_data = sequence.pad_sequences(train_data, MAXLEN)\n",
        "test_data = sequence.pad_sequences(test_data, MAXLEN)"
      ]
    },
    {
      "cell_type": "code",
      "execution_count": 30,
      "metadata": {},
      "outputs": [
        {
          "name": "stdout",
          "output_type": "stream",
          "text": [
            "ahhhh just woken up had a bad dream about u tho so i dont like u right now i didnt know anything about comedy night but i guess im up for it\n"
          ]
        },
        {
          "data": {
            "application/javascript": "\n            setTimeout(function() {\n                var nbb_cell_id = 30;\n                var nbb_unformatted_code = \"reverse_word_index = {value: key for (key, value) in word_index.items()}\\n\\n\\ndef decode_integers(integers):\\n    PAD = 0\\n    text = \\\"\\\"\\n    for num in integers:\\n        if num != 0:\\n            text += reverse_word_index[num] + \\\" \\\"\\n\\n    return text[:-1]\\n\\n\\nprint(decode_integers(train_data[0]))\";\n                var nbb_formatted_code = \"reverse_word_index = {value: key for (key, value) in word_index.items()}\\n\\n\\ndef decode_integers(integers):\\n    PAD = 0\\n    text = \\\"\\\"\\n    for num in integers:\\n        if num != 0:\\n            text += reverse_word_index[num] + \\\" \\\"\\n\\n    return text[:-1]\\n\\n\\nprint(decode_integers(train_data[0]))\";\n                var nbb_cells = Jupyter.notebook.get_cells();\n                for (var i = 0; i < nbb_cells.length; ++i) {\n                    if (nbb_cells[i].input_prompt_number == nbb_cell_id) {\n                        if (nbb_cells[i].get_text() == nbb_unformatted_code) {\n                             nbb_cells[i].set_text(nbb_formatted_code);\n                        }\n                        break;\n                    }\n                }\n            }, 500);\n            ",
            "text/plain": [
              "<IPython.core.display.Javascript object>"
            ]
          },
          "metadata": {},
          "output_type": "display_data"
        }
      ],
      "source": [
        "reverse_word_index = {value: key for (key, value) in word_index.items()}\n",
        "\n",
        "\n",
        "def decode_integers(integers):\n",
        "    PAD = 0\n",
        "    text = \"\"\n",
        "    for num in integers:\n",
        "        if num != 0:\n",
        "            text += reverse_word_index[num] + \" \"\n",
        "\n",
        "    return text[:-1]\n",
        "\n",
        "\n",
        "print(decode_integers(train_data[0]))"
      ]
    },
    {
      "cell_type": "code",
      "execution_count": 33,
      "metadata": {},
      "outputs": [
        {
          "data": {
            "application/javascript": "\n            setTimeout(function() {\n                var nbb_cell_id = 33;\n                var nbb_unformatted_code = \"model = tf.keras.Sequential(\\n    [\\n        tf.keras.layers.Embedding(88584, 32),\\n        tf.keras.layers.LSTM(32),\\n        tf.keras.layers.Dense(1, activation=\\\"sigmoid\\\"),\\n    ]\\n)\";\n                var nbb_formatted_code = \"model = tf.keras.Sequential(\\n    [\\n        tf.keras.layers.Embedding(88584, 32),\\n        tf.keras.layers.LSTM(32),\\n        tf.keras.layers.Dense(1, activation=\\\"sigmoid\\\"),\\n    ]\\n)\";\n                var nbb_cells = Jupyter.notebook.get_cells();\n                for (var i = 0; i < nbb_cells.length; ++i) {\n                    if (nbb_cells[i].input_prompt_number == nbb_cell_id) {\n                        if (nbb_cells[i].get_text() == nbb_unformatted_code) {\n                             nbb_cells[i].set_text(nbb_formatted_code);\n                        }\n                        break;\n                    }\n                }\n            }, 500);\n            ",
            "text/plain": [
              "<IPython.core.display.Javascript object>"
            ]
          },
          "metadata": {},
          "output_type": "display_data"
        }
      ],
      "source": [
        "model = tf.keras.Sequential(\n",
        "    [\n",
        "        tf.keras.layers.Embedding(88584, 32),\n",
        "        tf.keras.layers.LSTM(32),\n",
        "        tf.keras.layers.Dense(1, activation=\"sigmoid\"),\n",
        "    ]\n",
        ")"
      ]
    },
    {
      "cell_type": "code",
      "execution_count": 34,
      "metadata": {},
      "outputs": [
        {
          "name": "stdout",
          "output_type": "stream",
          "text": [
            "Model: \"sequential\"\n",
            "_________________________________________________________________\n",
            " Layer (type)                Output Shape              Param #   \n",
            "=================================================================\n",
            " embedding (Embedding)       (None, None, 32)          2834688   \n",
            "                                                                 \n",
            " lstm (LSTM)                 (None, 32)                8320      \n",
            "                                                                 \n",
            " dense (Dense)               (None, 1)                 33        \n",
            "                                                                 \n",
            "=================================================================\n",
            "Total params: 2,843,041\n",
            "Trainable params: 2,843,041\n",
            "Non-trainable params: 0\n",
            "_________________________________________________________________\n"
          ]
        },
        {
          "data": {
            "application/javascript": "\n            setTimeout(function() {\n                var nbb_cell_id = 34;\n                var nbb_unformatted_code = \"model.summary()\";\n                var nbb_formatted_code = \"model.summary()\";\n                var nbb_cells = Jupyter.notebook.get_cells();\n                for (var i = 0; i < nbb_cells.length; ++i) {\n                    if (nbb_cells[i].input_prompt_number == nbb_cell_id) {\n                        if (nbb_cells[i].get_text() == nbb_unformatted_code) {\n                             nbb_cells[i].set_text(nbb_formatted_code);\n                        }\n                        break;\n                    }\n                }\n            }, 500);\n            ",
            "text/plain": [
              "<IPython.core.display.Javascript object>"
            ]
          },
          "metadata": {},
          "output_type": "display_data"
        }
      ],
      "source": [
        "model.summary()"
      ]
    },
    {
      "cell_type": "code",
      "execution_count": 35,
      "metadata": {},
      "outputs": [
        {
          "data": {
            "application/javascript": "\n            setTimeout(function() {\n                var nbb_cell_id = 35;\n                var nbb_unformatted_code = \"model.compile(loss=\\\"binary_crossentropy\\\", optimizer=\\\"rmsprop\\\", metrics=[\\\"acc\\\"])\";\n                var nbb_formatted_code = \"model.compile(loss=\\\"binary_crossentropy\\\", optimizer=\\\"rmsprop\\\", metrics=[\\\"acc\\\"])\";\n                var nbb_cells = Jupyter.notebook.get_cells();\n                for (var i = 0; i < nbb_cells.length; ++i) {\n                    if (nbb_cells[i].input_prompt_number == nbb_cell_id) {\n                        if (nbb_cells[i].get_text() == nbb_unformatted_code) {\n                             nbb_cells[i].set_text(nbb_formatted_code);\n                        }\n                        break;\n                    }\n                }\n            }, 500);\n            ",
            "text/plain": [
              "<IPython.core.display.Javascript object>"
            ]
          },
          "metadata": {},
          "output_type": "display_data"
        }
      ],
      "source": [
        "model.compile(loss=\"binary_crossentropy\", optimizer=\"rmsprop\", metrics=[\"acc\"])"
      ]
    },
    {
      "cell_type": "code",
      "execution_count": 40,
      "metadata": {},
      "outputs": [
        {
          "name": "stdout",
          "output_type": "stream",
          "text": [
            "Epoch 1/10\n",
            "105/105 [==============================] - 13s 102ms/step - loss: 0.2848 - acc: 0.8929 - val_loss: 0.1165 - val_acc: 0.9737\n",
            "Epoch 2/10\n",
            "105/105 [==============================] - 12s 113ms/step - loss: 0.0959 - acc: 0.9785 - val_loss: 0.0796 - val_acc: 0.9856\n",
            "Epoch 3/10\n",
            "105/105 [==============================] - 11s 107ms/step - loss: 0.0491 - acc: 0.9889 - val_loss: 0.0841 - val_acc: 0.9773\n",
            "Epoch 4/10\n",
            "105/105 [==============================] - 14s 129ms/step - loss: 0.0389 - acc: 0.9889 - val_loss: 0.0515 - val_acc: 0.9880\n",
            "Epoch 5/10\n",
            "105/105 [==============================] - 13s 120ms/step - loss: 0.0246 - acc: 0.9940 - val_loss: 0.0489 - val_acc: 0.9892\n",
            "Epoch 6/10\n",
            "105/105 [==============================] - 14s 132ms/step - loss: 0.0178 - acc: 0.9949 - val_loss: 0.0482 - val_acc: 0.9880\n",
            "Epoch 7/10\n",
            "105/105 [==============================] - 11s 100ms/step - loss: 0.0225 - acc: 0.9928 - val_loss: 0.0521 - val_acc: 0.9892\n",
            "Epoch 8/10\n",
            "105/105 [==============================] - 13s 124ms/step - loss: 0.0132 - acc: 0.9958 - val_loss: 0.0554 - val_acc: 0.9868\n",
            "Epoch 9/10\n",
            "105/105 [==============================] - 12s 116ms/step - loss: 0.0123 - acc: 0.9964 - val_loss: 0.0521 - val_acc: 0.9856\n",
            "Epoch 10/10\n",
            "105/105 [==============================] - 11s 108ms/step - loss: 0.0061 - acc: 0.9979 - val_loss: 0.0594 - val_acc: 0.9856\n"
          ]
        },
        {
          "data": {
            "application/javascript": "\n            setTimeout(function() {\n                var nbb_cell_id = 40;\n                var nbb_unformatted_code = \"history = model.fit(train_data, train_labels, epochs=10, validation_split=0.2)\";\n                var nbb_formatted_code = \"history = model.fit(train_data, train_labels, epochs=10, validation_split=0.2)\";\n                var nbb_cells = Jupyter.notebook.get_cells();\n                for (var i = 0; i < nbb_cells.length; ++i) {\n                    if (nbb_cells[i].input_prompt_number == nbb_cell_id) {\n                        if (nbb_cells[i].get_text() == nbb_unformatted_code) {\n                             nbb_cells[i].set_text(nbb_formatted_code);\n                        }\n                        break;\n                    }\n                }\n            }, 500);\n            ",
            "text/plain": [
              "<IPython.core.display.Javascript object>"
            ]
          },
          "metadata": {},
          "output_type": "display_data"
        }
      ],
      "source": [
        "history = model.fit(train_data, train_labels, epochs=10, validation_split=0.2)"
      ]
    },
    {
      "cell_type": "code",
      "execution_count": 41,
      "metadata": {},
      "outputs": [
        {
          "name": "stdout",
          "output_type": "stream",
          "text": [
            "44/44 [==============================] - 1s 20ms/step - loss: 0.0456 - acc: 0.9878\n",
            "[0.045554954558610916, 0.9877873659133911]\n"
          ]
        },
        {
          "data": {
            "application/javascript": "\n            setTimeout(function() {\n                var nbb_cell_id = 41;\n                var nbb_unformatted_code = \"results = model.evaluate(test_data, test_labels)\\nprint(results)\";\n                var nbb_formatted_code = \"results = model.evaluate(test_data, test_labels)\\nprint(results)\";\n                var nbb_cells = Jupyter.notebook.get_cells();\n                for (var i = 0; i < nbb_cells.length; ++i) {\n                    if (nbb_cells[i].input_prompt_number == nbb_cell_id) {\n                        if (nbb_cells[i].get_text() == nbb_unformatted_code) {\n                             nbb_cells[i].set_text(nbb_formatted_code);\n                        }\n                        break;\n                    }\n                }\n            }, 500);\n            ",
            "text/plain": [
              "<IPython.core.display.Javascript object>"
            ]
          },
          "metadata": {},
          "output_type": "display_data"
        }
      ],
      "source": [
        "results = model.evaluate(test_data, test_labels)\n",
        "print(results)\n"
      ]
    },
    {
      "cell_type": "code",
      "execution_count": 47,
      "metadata": {
        "id": "J9tD9yACG6M9"
      },
      "outputs": [
        {
          "name": "stdout",
          "output_type": "stream",
          "text": [
            "[2.8330734e-05, 'ham']\n"
          ]
        },
        {
          "data": {
            "application/javascript": "\n            setTimeout(function() {\n                var nbb_cell_id = 47;\n                var nbb_unformatted_code = \"# function to predict messages based on model\\n# (should return list containing prediction and label, ex. [0.008318834938108921, 'ham'])\\ndef predict_message(pred_text):\\n    encoded_text = encode_text(pred_text)\\n    pred = np.zeros((1, 250))\\n    pred[0] = encoded_text\\n    result = model.predict(pred)\\n    return [result[0][0], key[round(model.predict(pred)[0][0])]]\\n\\n\\npred_text = \\\"how are you doing today?\\\"\\n\\nprediction = predict_message(pred_text)\\nprint(prediction)\";\n                var nbb_formatted_code = \"# function to predict messages based on model\\n# (should return list containing prediction and label, ex. [0.008318834938108921, 'ham'])\\ndef predict_message(pred_text):\\n    encoded_text = encode_text(pred_text)\\n    pred = np.zeros((1, 250))\\n    pred[0] = encoded_text\\n    result = model.predict(pred)\\n    return [result[0][0], key[round(model.predict(pred)[0][0])]]\\n\\n\\npred_text = \\\"how are you doing today?\\\"\\n\\nprediction = predict_message(pred_text)\\nprint(prediction)\";\n                var nbb_cells = Jupyter.notebook.get_cells();\n                for (var i = 0; i < nbb_cells.length; ++i) {\n                    if (nbb_cells[i].input_prompt_number == nbb_cell_id) {\n                        if (nbb_cells[i].get_text() == nbb_unformatted_code) {\n                             nbb_cells[i].set_text(nbb_formatted_code);\n                        }\n                        break;\n                    }\n                }\n            }, 500);\n            ",
            "text/plain": [
              "<IPython.core.display.Javascript object>"
            ]
          },
          "metadata": {},
          "output_type": "display_data"
        }
      ],
      "source": [
        "# function to predict messages based on model\n",
        "# (should return list containing prediction and label, ex. [0.008318834938108921, 'ham'])\n",
        "def predict_message(pred_text):\n",
        "    encoded_text = encode_text(pred_text)\n",
        "    pred = np.zeros((1, 250))\n",
        "    pred[0] = encoded_text\n",
        "    result = model.predict(pred)\n",
        "    return [result[0][0], key[round(model.predict(pred)[0][0])]]\n",
        "\n",
        "\n",
        "pred_text = \"how are you doing today?\"\n",
        "\n",
        "prediction = predict_message(pred_text)\n",
        "print(prediction)"
      ]
    },
    {
      "cell_type": "code",
      "execution_count": 48,
      "metadata": {
        "id": "Dxotov85SjsC"
      },
      "outputs": [
        {
          "name": "stdout",
          "output_type": "stream",
          "text": [
            "You passed the challenge. Great job!\n"
          ]
        },
        {
          "data": {
            "application/javascript": "\n            setTimeout(function() {\n                var nbb_cell_id = 48;\n                var nbb_unformatted_code = \"# Run this cell to test your function and model. Do not modify contents.\\ndef test_predictions():\\n  test_messages = [\\\"how are you doing today\\\",\\n                   \\\"sale today! to stop texts call 98912460324\\\",\\n                   \\\"i dont want to go. can we try it a different day? available sat\\\",\\n                   \\\"our new mobile video service is live. just install on your phone to start watching.\\\",\\n                   \\\"you have won \\u00a31000 cash! call to claim your prize.\\\",\\n                   \\\"i'll bring it tomorrow. don't forget the milk.\\\",\\n                   \\\"wow, is your arm alright. that happened to me one time too\\\"\\n                  ]\\n\\n  test_answers = [\\\"ham\\\", \\\"spam\\\", \\\"ham\\\", \\\"spam\\\", \\\"spam\\\", \\\"ham\\\", \\\"ham\\\"]\\n  passed = True\\n\\n  for msg, ans in zip(test_messages, test_answers):\\n    prediction = predict_message(msg)\\n    if prediction[1] != ans:\\n      passed = False\\n\\n  if passed:\\n    print(\\\"You passed the challenge. Great job!\\\")\\n  else:\\n    print(\\\"You haven't passed yet. Keep trying.\\\")\\n\\ntest_predictions()\";\n                var nbb_formatted_code = \"# Run this cell to test your function and model. Do not modify contents.\\ndef test_predictions():\\n    test_messages = [\\n        \\\"how are you doing today\\\",\\n        \\\"sale today! to stop texts call 98912460324\\\",\\n        \\\"i dont want to go. can we try it a different day? available sat\\\",\\n        \\\"our new mobile video service is live. just install on your phone to start watching.\\\",\\n        \\\"you have won \\u00a31000 cash! call to claim your prize.\\\",\\n        \\\"i'll bring it tomorrow. don't forget the milk.\\\",\\n        \\\"wow, is your arm alright. that happened to me one time too\\\",\\n    ]\\n\\n    test_answers = [\\\"ham\\\", \\\"spam\\\", \\\"ham\\\", \\\"spam\\\", \\\"spam\\\", \\\"ham\\\", \\\"ham\\\"]\\n    passed = True\\n\\n    for msg, ans in zip(test_messages, test_answers):\\n        prediction = predict_message(msg)\\n        if prediction[1] != ans:\\n            passed = False\\n\\n    if passed:\\n        print(\\\"You passed the challenge. Great job!\\\")\\n    else:\\n        print(\\\"You haven't passed yet. Keep trying.\\\")\\n\\n\\ntest_predictions()\";\n                var nbb_cells = Jupyter.notebook.get_cells();\n                for (var i = 0; i < nbb_cells.length; ++i) {\n                    if (nbb_cells[i].input_prompt_number == nbb_cell_id) {\n                        if (nbb_cells[i].get_text() == nbb_unformatted_code) {\n                             nbb_cells[i].set_text(nbb_formatted_code);\n                        }\n                        break;\n                    }\n                }\n            }, 500);\n            ",
            "text/plain": [
              "<IPython.core.display.Javascript object>"
            ]
          },
          "metadata": {},
          "output_type": "display_data"
        }
      ],
      "source": [
        "# Run this cell to test your function and model. Do not modify contents.\n",
        "def test_predictions():\n",
        "    test_messages = [\n",
        "        \"how are you doing today\",\n",
        "        \"sale today! to stop texts call 98912460324\",\n",
        "        \"i dont want to go. can we try it a different day? available sat\",\n",
        "        \"our new mobile video service is live. just install on your phone to start watching.\",\n",
        "        \"you have won £1000 cash! call to claim your prize.\",\n",
        "        \"i'll bring it tomorrow. don't forget the milk.\",\n",
        "        \"wow, is your arm alright. that happened to me one time too\",\n",
        "    ]\n",
        "\n",
        "    test_answers = [\"ham\", \"spam\", \"ham\", \"spam\", \"spam\", \"ham\", \"ham\"]\n",
        "    passed = True\n",
        "\n",
        "    for msg, ans in zip(test_messages, test_answers):\n",
        "        prediction = predict_message(msg)\n",
        "        if prediction[1] != ans:\n",
        "            passed = False\n",
        "\n",
        "    if passed:\n",
        "        print(\"You passed the challenge. Great job!\")\n",
        "    else:\n",
        "        print(\"You haven't passed yet. Keep trying.\")\n",
        "\n",
        "\n",
        "test_predictions()"
      ]
    }
  ],
  "metadata": {
    "colab": {
      "collapsed_sections": [],
      "name": "fcc_sms_text_classification.ipynb",
      "private_outputs": true,
      "provenance": [],
      "toc_visible": true
    },
    "kernelspec": {
      "display_name": "Python 3",
      "name": "python3"
    },
    "language_info": {
      "codemirror_mode": {
        "name": "ipython",
        "version": 3
      },
      "file_extension": ".py",
      "mimetype": "text/x-python",
      "name": "python",
      "nbconvert_exporter": "python",
      "pygments_lexer": "ipython3",
      "version": "3.10.2"
    }
  },
  "nbformat": 4,
  "nbformat_minor": 0
}
